{
 "cells": [
  {
   "cell_type": "markdown",
   "source": [
    "# Queen's Attack II\n"
   ],
   "metadata": {
    "collapsed": false
   },
   "id": "f74fc3ec4dd9bdf3"
  },
  {
   "cell_type": "markdown",
   "source": [
    "## Problem Statement\n",
    "\n",
    "\n",
    "You will be given a square chess board with one queen and a number of obstacles placed on it. Determine how many squares the queen can attack.\n",
    "\n",
    "A queen is standing on an **n x n** chessboard. The chess board's rows are numbered from **1** to **n**, going from bottom to top. Its columns are numbered from **1** to **n**, going from left to right. Each square is referenced by a tuple, **(r,c)**, describing the row, **r**, and column, **c**, where the square is located.\n",
    "\n",
    "The queen is standing at position **($r_q,c_q$)**. In a single move, she can attack any square in any of the eight directions (left, right, up, down, and the four diagonals). In the diagram below, the green circles denote all the cells the queen can attack from **(4,4)**:\n",
    "\n",
    "![](https://s3.amazonaws.com/hr-challenge-images/0/1485426500-a4039ebb00-chess1.png)\n",
    "\n",
    "There are obstacles on the chessboard, each preventing the queen from attacking any square beyond it on that path. For example, an obstacle at location **(3,5)** in the diagram above prevents the queen from attacking cells **(3,5)**, **(2,6)**, and **(1,7)**:\n",
    "\n",
    "![](https://s3.amazonaws.com/hr-challenge-images/0/1485459132-3fdc1f1ca3-chess_4_.png)\n",
    "\n",
    "Given the queen's position and the locations of all the obstacles, find and print the number of squares the queen can attack from her position at **$(r_q,c_q)$**. In the board above, there are **24** such squares.\n",
    "\n",
    "Source: https://www.hackerrank.com/challenges/queens-attack-2/problem"
   ],
   "metadata": {
    "collapsed": false
   },
   "id": "41c098446cb9a5d5"
  },
  {
   "cell_type": "markdown",
   "source": [
    "## Solution\n",
    "\n",
    "\n",
    "### 1. Identify the input & output formats.\n",
    "\n",
    "While this problem is stated clearly enough, it's always useful to try and express in your own words, in a way that makes it most clear.\n",
    "\n",
    "<br/>\n",
    "\n",
    "**Problem**\n",
    "\n",
    "> Given a chessboard of r x c boxes, a queen in position rq, cq, and a list of obstacles coordinates, find the number of boxes that the queen can attack.\n",
    "\n",
    "<br/>\n",
    "\n",
    "\n",
    "**Input**\n",
    "\n",
    "Rows and columns of the chessboard:\n",
    "```\n",
    "r = 8\n",
    "c = 8\n",
    "```\n",
    "Queen's position:\n",
    "```\n",
    "rq = 4\n",
    "cq = 4\n",
    "```\n",
    "List of obstacles:\n",
    "```\n",
    "obstacles = [(3, 5)]\n",
    "```\n",
    "<br/>\n",
    "\n",
    "**Output**\n",
    "\n",
    "The number of boxes that the queen can attack:\n",
    "```\n",
    "movements = 24\n",
    "```\n",
    "<br/>\n",
    "\n",
    "Based on the above, we can now create a signature of our function:"
   ],
   "metadata": {
    "collapsed": false
   },
   "id": "af675823eb962e34"
  },
  {
   "cell_type": "code",
   "execution_count": 2,
   "outputs": [],
   "source": [
    "def queenAttack(r, c, rq, cq, obstacles):\n",
    "    pass"
   ],
   "metadata": {
    "collapsed": false,
    "ExecuteTime": {
     "end_time": "2023-11-26T09:09:37.621625800Z",
     "start_time": "2023-11-26T09:09:37.618123500Z"
    }
   },
   "id": "834183993067159a"
  },
  {
   "cell_type": "markdown",
   "source": [
    "### 2. Example inputs & outputs.\n",
    "\n",
    "Our function should be able to handle any set of valid inputs we pass into it. Here's a list of some possible variations we might encounter:\n",
    "\n",
    "1. The given case\n",
    "2. A chessboard with no obstacles\n",
    "3. A chessboard with three or more obstacles\n",
    "4. A chessboard of 2 by 2\n",
    "5. A queen surrounded by obstacles\n",
    "6. A very big chessboard with no obstacles\n",
    "7. A normal size chessboard with a lot of obstacles\n",
    "\n",
    "We'll express our test cases as dictionaries, to test them easily. Each dictionary will contain 2 keys: `input` (a dictionary itself containing one key for each argument to the function and `output` (the expected result from the function). "
   ],
   "metadata": {
    "collapsed": false
   },
   "id": "abb1a14069b0a843"
  },
  {
   "cell_type": "code",
   "execution_count": 3,
   "outputs": [],
   "source": [
    "test = {\n",
    "    'input': {\n",
    "        'r': 8,\n",
    "        'c': 8,\n",
    "        'rq': 4,\n",
    "        'cq': 4,\n",
    "        'obstacles': [(3, 5)]\n",
    "    },\n",
    "    'output': 24\n",
    "}"
   ],
   "metadata": {
    "collapsed": false,
    "ExecuteTime": {
     "end_time": "2023-11-26T09:10:00.315576300Z",
     "start_time": "2023-11-26T09:10:00.308905300Z"
    }
   },
   "id": "37e87e4cb2e89b05"
  },
  {
   "cell_type": "code",
   "execution_count": 8,
   "outputs": [],
   "source": [
    "from jovian.pythondsa import evaluate_test_case"
   ],
   "metadata": {
    "collapsed": false,
    "ExecuteTime": {
     "end_time": "2023-11-26T09:11:25.048550100Z",
     "start_time": "2023-11-26T09:11:25.039254Z"
    }
   },
   "id": "b5a2c67ac325fcdd"
  },
  {
   "cell_type": "code",
   "execution_count": 9,
   "outputs": [
    {
     "name": "stdout",
     "output_type": "stream",
     "text": [
      "\n",
      "Input:\n",
      "{'r': 8, 'c': 8, 'rq': 4, 'cq': 4, 'obstacles': [(3, 5)]}\n",
      "\n",
      "Expected Output:\n",
      "24\n",
      "\n",
      "\n",
      "Actual Output:\n",
      "None\n",
      "\n",
      "Execution Time:\n",
      "0.002 ms\n",
      "\n",
      "Test Result:\n",
      "\u001B[91mFAILED\u001B[0m\n"
     ]
    },
    {
     "data": {
      "text/plain": "(None, False, 0.002)"
     },
     "execution_count": 9,
     "metadata": {},
     "output_type": "execute_result"
    }
   ],
   "source": [
    "evaluate_test_case(queenAttack, test)"
   ],
   "metadata": {
    "collapsed": false,
    "ExecuteTime": {
     "end_time": "2023-11-26T09:11:29.816092200Z",
     "start_time": "2023-11-26T09:11:29.809625300Z"
    }
   },
   "id": "2615af50a8864825"
  },
  {
   "cell_type": "markdown",
   "source": [
    "Create one test case for each of the scenarios listed above. We'll store our test cases in an array called `tests`."
   ],
   "metadata": {
    "collapsed": false
   },
   "id": "7fe6486afa4520d4"
  },
  {
   "cell_type": "code",
   "execution_count": 10,
   "outputs": [],
   "source": [
    "tests = []\n",
    "# The original statement\n",
    "tests.append(test)"
   ],
   "metadata": {
    "collapsed": false,
    "ExecuteTime": {
     "end_time": "2023-11-26T09:11:31.361949400Z",
     "start_time": "2023-11-26T09:11:31.361444100Z"
    }
   },
   "id": "831268dd360ab0b5"
  },
  {
   "cell_type": "code",
   "execution_count": 11,
   "outputs": [],
   "source": [
    "# A chessboard with no obstacles\n",
    "tests.append({\n",
    "    'input': {\n",
    "        'r': 8,\n",
    "        'c': 8,\n",
    "        'rq': 4,\n",
    "        'cq': 4,\n",
    "        'obstacles': []\n",
    "    },\n",
    "    'output': 27\n",
    "})\n",
    "# A chessboard with three or more obstacles\n",
    "tests.append({\n",
    "    'input': {\n",
    "        'r': 8,\n",
    "        'c': 8,\n",
    "        'rq': 4,\n",
    "        'cq': 3,\n",
    "        'obstacles': [(4,2), (2,3), (5,5)]\n",
    "    },\n",
    "    'output': 21\n",
    "})\n",
    "# A chessboard of 2 by 2\n",
    "tests.append({\n",
    "    'input': {\n",
    "        'r': 2,\n",
    "        'c': 2,\n",
    "        'rq': 2,\n",
    "        'cq': 1,\n",
    "        'obstacles': [(1, 2)]\n",
    "    },\n",
    "    'output': 2\n",
    "})\n",
    "# A queen surrounded by obstacles\n",
    "tests.append({\n",
    "    'input': {\n",
    "        'r': 2,\n",
    "        'c': 2,\n",
    "        'rq': 1,\n",
    "        'cq': 1,\n",
    "        'obstacles': [(1, 2), (2,1), (2,2)]\n",
    "    },\n",
    "    'output': 0\n",
    "})\n",
    "# A very big chessboard with no obstcles\n",
    "tests.append({\n",
    "    'input': {\n",
    "        'r': 1000,\n",
    "        'c': 1000,\n",
    "        'rq': 500,\n",
    "        'cq': 500,\n",
    "        'obstacles': []\n",
    "    },\n",
    "    'output': 3995\n",
    "})\n",
    "# A normal size chessboard with a lot of obstacles\n",
    "tests.append({\n",
    "    'input': {\n",
    "        'r': 8,\n",
    "        'c': 8,\n",
    "        'rq': 4,\n",
    "        'cq': 4,\n",
    "        'obstacles': [(1,1), (1,2), (1,3), (1,4), (1,5), (1,6), (1,7), (1,8),\n",
    "                     (2,1), (3,1), (4,1), (5,1), (6,1), (7,1), (8,1), \n",
    "                     (2,8), (3,8), (4,8), (5,8), (6,8), (7,8), (8,8), \n",
    "                     (8,2), (8,3), (8,4), (8,5), (8,6), (8,7),\n",
    "                     (2,2), (2,3), (2,4), (2,5), (2,6), (2,7),\n",
    "                     (3,2), (4,2), (5,2), (6,2), (7,2), \n",
    "                     (3,7), (4,7), (5,7), (6,7), (7,7), \n",
    "                     (7,3), (7,4), (7,5), (7,6),\n",
    "                     (3,3), (3,4), (3,5), (3,6),\n",
    "                     (4,3), (5,3), (6,3),\n",
    "                     (4,6), (5,6), (6,6),\n",
    "                     (6,4), (6,5)]\n",
    "    },\n",
    "    'output': 3\n",
    "})"
   ],
   "metadata": {
    "collapsed": false,
    "ExecuteTime": {
     "end_time": "2023-11-26T09:11:32.030289500Z",
     "start_time": "2023-11-26T09:11:32.011443900Z"
    }
   },
   "id": "b1bdfe7fbabfbb6c"
  },
  {
   "cell_type": "markdown",
   "source": [
    "Evaluate the function against all the test cases together using the `evaluate_test_cases` (plural) function from `jovian`."
   ],
   "metadata": {
    "collapsed": false
   },
   "id": "62bafd3acbd0aa7c"
  },
  {
   "cell_type": "code",
   "execution_count": 13,
   "outputs": [],
   "source": [
    "from jovian.pythondsa import evaluate_test_cases"
   ],
   "metadata": {
    "collapsed": false,
    "ExecuteTime": {
     "end_time": "2023-11-26T09:11:47.433279600Z",
     "start_time": "2023-11-26T09:11:47.432774Z"
    }
   },
   "id": "5722c5d80dc29e53"
  },
  {
   "cell_type": "code",
   "execution_count": 14,
   "outputs": [
    {
     "name": "stdout",
     "output_type": "stream",
     "text": [
      "\n",
      "\u001B[1mTEST CASE #0\u001B[0m\n",
      "\n",
      "Input:\n",
      "{'r': 8, 'c': 8, 'rq': 4, 'cq': 4, 'obstacles': [(3, 5)]}\n",
      "\n",
      "Expected Output:\n",
      "24\n",
      "\n",
      "\n",
      "Actual Output:\n",
      "None\n",
      "\n",
      "Execution Time:\n",
      "0.002 ms\n",
      "\n",
      "Test Result:\n",
      "\u001B[91mFAILED\u001B[0m\n",
      "\n",
      "\n",
      "\u001B[1mTEST CASE #1\u001B[0m\n",
      "\n",
      "Input:\n",
      "{'r': 8, 'c': 8, 'rq': 4, 'cq': 4, 'obstacles': []}\n",
      "\n",
      "Expected Output:\n",
      "27\n",
      "\n",
      "\n",
      "Actual Output:\n",
      "None\n",
      "\n",
      "Execution Time:\n",
      "0.001 ms\n",
      "\n",
      "Test Result:\n",
      "\u001B[91mFAILED\u001B[0m\n",
      "\n",
      "\n",
      "\u001B[1mTEST CASE #2\u001B[0m\n",
      "\n",
      "Input:\n",
      "{'r': 8, 'c': 8, 'rq': 4, 'cq': 3, 'obstacles': [(4, 2), (2, 3), (5, 5)]}\n",
      "\n",
      "Expected Output:\n",
      "21\n",
      "\n",
      "\n",
      "Actual Output:\n",
      "None\n",
      "\n",
      "Execution Time:\n",
      "0.001 ms\n",
      "\n",
      "Test Result:\n",
      "\u001B[91mFAILED\u001B[0m\n",
      "\n",
      "\n",
      "\u001B[1mTEST CASE #3\u001B[0m\n",
      "\n",
      "Input:\n",
      "{'r': 2, 'c': 2, 'rq': 2, 'cq': 1, 'obstacles': [(1, 2)]}\n",
      "\n",
      "Expected Output:\n",
      "2\n",
      "\n",
      "\n",
      "Actual Output:\n",
      "None\n",
      "\n",
      "Execution Time:\n",
      "0.001 ms\n",
      "\n",
      "Test Result:\n",
      "\u001B[91mFAILED\u001B[0m\n",
      "\n",
      "\n",
      "\u001B[1mTEST CASE #4\u001B[0m\n",
      "\n",
      "Input:\n",
      "{'r': 2, 'c': 2, 'rq': 1, 'cq': 1, 'obstacles': [(1, 2), (2, 1), (2, 2)]}\n",
      "\n",
      "Expected Output:\n",
      "0\n",
      "\n",
      "\n",
      "Actual Output:\n",
      "None\n",
      "\n",
      "Execution Time:\n",
      "0.001 ms\n",
      "\n",
      "Test Result:\n",
      "\u001B[91mFAILED\u001B[0m\n",
      "\n",
      "\n",
      "\u001B[1mTEST CASE #5\u001B[0m\n",
      "\n",
      "Input:\n",
      "{'r': 1000, 'c': 1000, 'rq': 500, 'cq': 500, 'obstacles': []}\n",
      "\n",
      "Expected Output:\n",
      "3995\n",
      "\n",
      "\n",
      "Actual Output:\n",
      "None\n",
      "\n",
      "Execution Time:\n",
      "0.001 ms\n",
      "\n",
      "Test Result:\n",
      "\u001B[91mFAILED\u001B[0m\n",
      "\n",
      "\n",
      "\u001B[1mTEST CASE #6\u001B[0m\n",
      "\n",
      "Input:\n",
      "{'r': 8, 'c': 8, 'rq': 4, 'cq': 4, 'obstacles': [(1, 1), (1, 2), (1, 3), (1, 4), (1, 5), (1, 6), (1,...\n",
      "\n",
      "Expected Output:\n",
      "3\n",
      "\n",
      "\n",
      "Actual Output:\n",
      "None\n",
      "\n",
      "Execution Time:\n",
      "0.001 ms\n",
      "\n",
      "Test Result:\n",
      "\u001B[91mFAILED\u001B[0m\n",
      "\n",
      "\n",
      "\u001B[1mSUMMARY\u001B[0m\n",
      "\n",
      "TOTAL: 7, \u001B[92mPASSED\u001B[0m: 0, \u001B[91mFAILED\u001B[0m: 7\n"
     ]
    },
    {
     "data": {
      "text/plain": "[(None, False, 0.002),\n (None, False, 0.001),\n (None, False, 0.001),\n (None, False, 0.001),\n (None, False, 0.001),\n (None, False, 0.001),\n (None, False, 0.001)]"
     },
     "execution_count": 14,
     "metadata": {},
     "output_type": "execute_result"
    }
   ],
   "source": [
    "evaluate_test_cases(queenAttack, tests)"
   ],
   "metadata": {
    "collapsed": false,
    "ExecuteTime": {
     "end_time": "2023-11-26T09:11:48.252132200Z",
     "start_time": "2023-11-26T09:11:48.238794400Z"
    }
   },
   "id": "33dd8002fa14caad"
  },
  {
   "cell_type": "markdown",
   "source": [
    "Verify that all the test cases were evaluated. We expect them all to fail, since we haven't implemented the function yet."
   ],
   "metadata": {
    "collapsed": false
   },
   "id": "e7f826b6f7d99ef9"
  },
  {
   "cell_type": "markdown",
   "source": [
    "### 3. A correct solution for the problem in plain English.\n",
    "\n",
    "Our first goal should always be to come up with a _correct_ solution to the problem, which may not necessarily be the most _efficient_ solution.\n",
    "\n",
    "> Go recursively in the eight directions that the queen can move, counting the boxes, until an obstacle or the border of the chessboard is found."
   ],
   "metadata": {
    "collapsed": false
   },
   "id": "fb2b3b36a594eb15"
  },
  {
   "cell_type": "markdown",
   "source": [
    "### 4. Recursive solution"
   ],
   "metadata": {
    "collapsed": false
   },
   "id": "209cf1aace5f5e98"
  },
  {
   "cell_type": "code",
   "execution_count": 15,
   "outputs": [],
   "source": [
    "def queenAttack1(r, c, rq, cq, obstacles):\n",
    "    output = 0\n",
    "\n",
    "    def queenAttackRecursive(r, c, rq, cq, obstacles, direction):\n",
    "        if (rq, cq) in obstacles:\n",
    "            return -1\n",
    "        if direction == 'up':\n",
    "            if rq >= r:\n",
    "                return 0\n",
    "            else:\n",
    "                return 1 + queenAttackRecursive(r, c, rq+1, cq, obstacles, direction)\n",
    "        elif direction == 'up-right':\n",
    "            if rq >= r or cq >= c:\n",
    "                return 0\n",
    "            else:\n",
    "                return 1 + queenAttackRecursive(r, c, rq+1, cq+1, obstacles, direction)\n",
    "        elif direction == 'right':\n",
    "            if cq >= c:\n",
    "                return 0\n",
    "            else:\n",
    "                return 1 + queenAttackRecursive(r, c, rq, cq+1, obstacles, direction)\n",
    "        elif direction == 'right-down':\n",
    "            if rq <= 1 or cq >= c:\n",
    "                return 0\n",
    "            else:\n",
    "                return 1 + queenAttackRecursive(r, c, rq-1, cq+1, obstacles, direction)\n",
    "        elif direction == 'down':\n",
    "            if rq <= 1:\n",
    "                return 0\n",
    "            else:\n",
    "                return 1 + queenAttackRecursive(r, c, rq-1, cq, obstacles, direction)\n",
    "        elif direction == 'down-left':\n",
    "            if rq <= 1 or cq <= 1:\n",
    "                return 0\n",
    "            else:\n",
    "                return 1 + queenAttackRecursive(r, c, rq-1, cq-1, obstacles, direction)\n",
    "        elif direction == 'left':\n",
    "            if cq <= 1:\n",
    "                return 0\n",
    "            else:\n",
    "                return 1 + queenAttackRecursive(r, c, rq, cq-1, obstacles, direction)\n",
    "        else: # left-up\n",
    "            if rq >= r or cq <= 1:\n",
    "                return 0\n",
    "            else:\n",
    "                return 1 + queenAttackRecursive(r, c, rq+1, cq-1, obstacles, direction)\n",
    "\n",
    "    output += queenAttackRecursive(r, c, rq, cq, obstacles, 'up')\n",
    "    output += queenAttackRecursive(r, c, rq, cq, obstacles, 'up-right')\n",
    "    output += queenAttackRecursive(r, c, rq, cq, obstacles, 'right')\n",
    "    output += queenAttackRecursive(r, c, rq, cq, obstacles, 'right-down')\n",
    "    output += queenAttackRecursive(r, c, rq, cq, obstacles, 'down')\n",
    "    output += queenAttackRecursive(r, c, rq, cq, obstacles, 'down-left')\n",
    "    output += queenAttackRecursive(r, c, rq, cq, obstacles, 'left')\n",
    "    output += queenAttackRecursive(r, c, rq, cq, obstacles, 'left-up')\n",
    "\n",
    "    return output"
   ],
   "metadata": {
    "collapsed": false,
    "ExecuteTime": {
     "end_time": "2023-11-26T09:12:19.562081700Z",
     "start_time": "2023-11-26T09:12:19.533183900Z"
    }
   },
   "id": "8e305d4f45b2dbc5"
  },
  {
   "cell_type": "code",
   "execution_count": 16,
   "outputs": [
    {
     "name": "stdout",
     "output_type": "stream",
     "text": [
      "\n",
      "\u001B[1mTEST CASE #0\u001B[0m\n",
      "\n",
      "Input:\n",
      "{'r': 8, 'c': 8, 'rq': 4, 'cq': 4, 'obstacles': [(3, 5)]}\n",
      "\n",
      "Expected Output:\n",
      "24\n",
      "\n",
      "\n",
      "Actual Output:\n",
      "24\n",
      "\n",
      "Execution Time:\n",
      "0.023 ms\n",
      "\n",
      "Test Result:\n",
      "\u001B[92mPASSED\u001B[0m\n",
      "\n",
      "\n",
      "\u001B[1mTEST CASE #1\u001B[0m\n",
      "\n",
      "Input:\n",
      "{'r': 8, 'c': 8, 'rq': 4, 'cq': 4, 'obstacles': []}\n",
      "\n",
      "Expected Output:\n",
      "27\n",
      "\n",
      "\n",
      "Actual Output:\n",
      "27\n",
      "\n",
      "Execution Time:\n",
      "0.008 ms\n",
      "\n",
      "Test Result:\n",
      "\u001B[92mPASSED\u001B[0m\n",
      "\n",
      "\n",
      "\u001B[1mTEST CASE #2\u001B[0m\n",
      "\n",
      "Input:\n",
      "{'r': 8, 'c': 8, 'rq': 4, 'cq': 3, 'obstacles': [(4, 2), (2, 3), (5, 5)]}\n",
      "\n",
      "Expected Output:\n",
      "21\n",
      "\n",
      "\n",
      "Actual Output:\n",
      "21\n",
      "\n",
      "Execution Time:\n",
      "0.008 ms\n",
      "\n",
      "Test Result:\n",
      "\u001B[92mPASSED\u001B[0m\n",
      "\n",
      "\n",
      "\u001B[1mTEST CASE #3\u001B[0m\n",
      "\n",
      "Input:\n",
      "{'r': 2, 'c': 2, 'rq': 2, 'cq': 1, 'obstacles': [(1, 2)]}\n",
      "\n",
      "Expected Output:\n",
      "2\n",
      "\n",
      "\n",
      "Actual Output:\n",
      "2\n",
      "\n",
      "Execution Time:\n",
      "0.004 ms\n",
      "\n",
      "Test Result:\n",
      "\u001B[92mPASSED\u001B[0m\n",
      "\n",
      "\n",
      "\u001B[1mTEST CASE #4\u001B[0m\n",
      "\n",
      "Input:\n",
      "{'r': 2, 'c': 2, 'rq': 1, 'cq': 1, 'obstacles': [(1, 2), (2, 1), (2, 2)]}\n",
      "\n",
      "Expected Output:\n",
      "0\n",
      "\n",
      "\n",
      "Actual Output:\n",
      "0\n",
      "\n",
      "Execution Time:\n",
      "0.003 ms\n",
      "\n",
      "Test Result:\n",
      "\u001B[92mPASSED\u001B[0m\n",
      "\n",
      "\n",
      "\u001B[1mTEST CASE #5\u001B[0m\n",
      "\n",
      "Input:\n",
      "{'r': 1000, 'c': 1000, 'rq': 500, 'cq': 500, 'obstacles': []}\n",
      "\n",
      "Expected Output:\n",
      "3995\n",
      "\n",
      "\n",
      "Actual Output:\n",
      "3995\n",
      "\n",
      "Execution Time:\n",
      "0.919 ms\n",
      "\n",
      "Test Result:\n",
      "\u001B[92mPASSED\u001B[0m\n",
      "\n",
      "\n",
      "\u001B[1mTEST CASE #6\u001B[0m\n",
      "\n",
      "Input:\n",
      "{'r': 8, 'c': 8, 'rq': 4, 'cq': 4, 'obstacles': [(1, 1), (1, 2), (1, 3), (1, 4), (1, 5), (1, 6), (1,...\n",
      "\n",
      "Expected Output:\n",
      "3\n",
      "\n",
      "\n",
      "Actual Output:\n",
      "3\n",
      "\n",
      "Execution Time:\n",
      "0.018 ms\n",
      "\n",
      "Test Result:\n",
      "\u001B[92mPASSED\u001B[0m\n",
      "\n",
      "\n",
      "\u001B[1mSUMMARY\u001B[0m\n",
      "\n",
      "TOTAL: 7, \u001B[92mPASSED\u001B[0m: 7, \u001B[91mFAILED\u001B[0m: 0\n"
     ]
    }
   ],
   "source": [
    "results1 = evaluate_test_cases(queenAttack1, tests)"
   ],
   "metadata": {
    "collapsed": false,
    "ExecuteTime": {
     "end_time": "2023-11-26T09:12:25.251083600Z",
     "start_time": "2023-11-26T09:12:25.237315Z"
    }
   },
   "id": "1c10757a731f10df"
  },
  {
   "cell_type": "code",
   "execution_count": 17,
   "outputs": [
    {
     "data": {
      "text/plain": "[(24, True, 0.023),\n (27, True, 0.008),\n (21, True, 0.008),\n (2, True, 0.004),\n (0, True, 0.003),\n (3995, True, 0.919),\n (3, True, 0.018)]"
     },
     "execution_count": 17,
     "metadata": {},
     "output_type": "execute_result"
    }
   ],
   "source": [
    "results1"
   ],
   "metadata": {
    "collapsed": false,
    "ExecuteTime": {
     "end_time": "2023-11-26T09:12:31.685038600Z",
     "start_time": "2023-11-26T09:12:31.665324500Z"
    }
   },
   "id": "39c0aa699a958ccc"
  },
  {
   "cell_type": "code",
   "execution_count": 18,
   "outputs": [],
   "source": [
    "times1 = []\n",
    "for values in results1:\n",
    "    times1.append(values[2])"
   ],
   "metadata": {
    "collapsed": false,
    "ExecuteTime": {
     "end_time": "2023-11-26T09:12:37.169681600Z",
     "start_time": "2023-11-26T09:12:37.145805500Z"
    }
   },
   "id": "179055c691f92a71"
  },
  {
   "cell_type": "code",
   "execution_count": 19,
   "outputs": [
    {
     "data": {
      "text/plain": "[0.023, 0.008, 0.008, 0.004, 0.003, 0.919, 0.018]"
     },
     "execution_count": 19,
     "metadata": {},
     "output_type": "execute_result"
    }
   ],
   "source": [
    "times1"
   ],
   "metadata": {
    "collapsed": false,
    "ExecuteTime": {
     "end_time": "2023-11-26T09:12:41.950862900Z",
     "start_time": "2023-11-26T09:12:41.930491800Z"
    }
   },
   "id": "2a691c2f2d4268f7"
  },
  {
   "cell_type": "code",
   "execution_count": 20,
   "outputs": [
    {
     "data": {
      "text/plain": "[0.003, 0.004, 0.008, 0.008, 0.018, 0.023, 0.919]"
     },
     "execution_count": 20,
     "metadata": {},
     "output_type": "execute_result"
    }
   ],
   "source": [
    "times1.sort()\n",
    "times1"
   ],
   "metadata": {
    "collapsed": false,
    "ExecuteTime": {
     "end_time": "2023-11-26T09:12:46.982176800Z",
     "start_time": "2023-11-26T09:12:46.961103300Z"
    }
   },
   "id": "3a8c30f523b24d0b"
  },
  {
   "cell_type": "markdown",
   "source": [
    "Lets visualize the times in a chart."
   ],
   "metadata": {
    "collapsed": false
   },
   "id": "46da94d5b7b4c8c2"
  },
  {
   "cell_type": "code",
   "execution_count": 21,
   "outputs": [],
   "source": [
    "from matplotlib import pyplot as plt"
   ],
   "metadata": {
    "collapsed": false,
    "ExecuteTime": {
     "end_time": "2023-11-26T09:13:00.477909200Z",
     "start_time": "2023-11-26T09:12:59.865859Z"
    }
   },
   "id": "12fc209823ca3179"
  },
  {
   "cell_type": "code",
   "execution_count": 22,
   "outputs": [
    {
     "data": {
      "text/plain": "<Figure size 640x480 with 1 Axes>",
      "image/png": "[encoded data removed]"
     },
     "metadata": {},
     "output_type": "display_data"
    }
   ],
   "source": [
    "plt.plot(times1, color='tab:red', label=\"Recursive\")\n",
    "plt.legend()\n",
    "plt.show();"
   ],
   "metadata": {
    "collapsed": false,
    "ExecuteTime": {
     "end_time": "2023-11-26T09:13:06.026352900Z",
     "start_time": "2023-11-26T09:13:05.912228800Z"
    }
   },
   "id": "992a7d3b8950990c"
  },
  {
   "cell_type": "markdown",
   "source": [
    "### 5. Dynamic solution"
   ],
   "metadata": {
    "collapsed": false
   },
   "id": "fbacad6057b4a4f3"
  },
  {
   "cell_type": "code",
   "execution_count": 23,
   "outputs": [],
   "source": [
    "def queenAttack2(r, c, rq, cq, obstacles):\n",
    "    output = 0\n",
    "    # Vertical up\n",
    "    for i in range(1, r-rq+1):\n",
    "        if (rq+i, cq) in obstacles:\n",
    "            break\n",
    "        else:\n",
    "            output += 1\n",
    "    # Vertical down\n",
    "    for i in range(1, rq):\n",
    "        if (rq-i, cq) in obstacles:\n",
    "            break\n",
    "        else:\n",
    "            output += 1\n",
    "    # Horizontal right\n",
    "    for i in range(1, c-cq+1):\n",
    "        if (rq, cq+i) in obstacles:\n",
    "            break\n",
    "        else:\n",
    "            output += 1\n",
    "    for i in range(1, cq):\n",
    "        if (rq, cq-i) in obstacles:\n",
    "            break\n",
    "        else:\n",
    "            output += 1\n",
    "    # Diagonal ↗\n",
    "    for i in range(1, min(c-cq, r-rq)+1):\n",
    "        if (rq+i, cq+i) in obstacles:\n",
    "            break\n",
    "        else:\n",
    "            output += 1\n",
    "    for i in range(1, min(cq, rq)):\n",
    "        if (rq-i, cq-i) in obstacles:\n",
    "            break\n",
    "        else:\n",
    "            output += 1\n",
    "    # Diagonal ↖\n",
    "    for i in range(1, min(c-cq, rq-1)+1):\n",
    "        if (rq-i, cq+i) in obstacles:\n",
    "            break\n",
    "        else:\n",
    "            output += 1\n",
    "    for i in range(1, min(cq-1, r-rq)+1):\n",
    "        if (rq+i, cq-i) in obstacles:\n",
    "            break\n",
    "        else:\n",
    "            output += 1\n",
    "    return output"
   ],
   "metadata": {
    "collapsed": false,
    "ExecuteTime": {
     "end_time": "2023-11-26T09:13:17.197625200Z",
     "start_time": "2023-11-26T09:13:17.170890Z"
    }
   },
   "id": "9ce26cd6ba51e6b2"
  },
  {
   "cell_type": "code",
   "execution_count": 24,
   "outputs": [
    {
     "name": "stdout",
     "output_type": "stream",
     "text": [
      "\n",
      "\u001B[1mTEST CASE #0\u001B[0m\n",
      "\n",
      "Input:\n",
      "{'r': 8, 'c': 8, 'rq': 4, 'cq': 4, 'obstacles': [(3, 5)]}\n",
      "\n",
      "Expected Output:\n",
      "24\n",
      "\n",
      "\n",
      "Actual Output:\n",
      "24\n",
      "\n",
      "Execution Time:\n",
      "0.013 ms\n",
      "\n",
      "Test Result:\n",
      "\u001B[92mPASSED\u001B[0m\n",
      "\n",
      "\n",
      "\u001B[1mTEST CASE #1\u001B[0m\n",
      "\n",
      "Input:\n",
      "{'r': 8, 'c': 8, 'rq': 4, 'cq': 4, 'obstacles': []}\n",
      "\n",
      "Expected Output:\n",
      "27\n",
      "\n",
      "\n",
      "Actual Output:\n",
      "27\n",
      "\n",
      "Execution Time:\n",
      "0.005 ms\n",
      "\n",
      "Test Result:\n",
      "\u001B[92mPASSED\u001B[0m\n",
      "\n",
      "\n",
      "\u001B[1mTEST CASE #2\u001B[0m\n",
      "\n",
      "Input:\n",
      "{'r': 8, 'c': 8, 'rq': 4, 'cq': 3, 'obstacles': [(4, 2), (2, 3), (5, 5)]}\n",
      "\n",
      "Expected Output:\n",
      "21\n",
      "\n",
      "\n",
      "Actual Output:\n",
      "21\n",
      "\n",
      "Execution Time:\n",
      "0.006 ms\n",
      "\n",
      "Test Result:\n",
      "\u001B[92mPASSED\u001B[0m\n",
      "\n",
      "\n",
      "\u001B[1mTEST CASE #3\u001B[0m\n",
      "\n",
      "Input:\n",
      "{'r': 2, 'c': 2, 'rq': 2, 'cq': 1, 'obstacles': [(1, 2)]}\n",
      "\n",
      "Expected Output:\n",
      "2\n",
      "\n",
      "\n",
      "Actual Output:\n",
      "2\n",
      "\n",
      "Execution Time:\n",
      "0.003 ms\n",
      "\n",
      "Test Result:\n",
      "\u001B[92mPASSED\u001B[0m\n",
      "\n",
      "\n",
      "\u001B[1mTEST CASE #4\u001B[0m\n",
      "\n",
      "Input:\n",
      "{'r': 2, 'c': 2, 'rq': 1, 'cq': 1, 'obstacles': [(1, 2), (2, 1), (2, 2)]}\n",
      "\n",
      "Expected Output:\n",
      "0\n",
      "\n",
      "\n",
      "Actual Output:\n",
      "0\n",
      "\n",
      "Execution Time:\n",
      "0.004 ms\n",
      "\n",
      "Test Result:\n",
      "\u001B[92mPASSED\u001B[0m\n",
      "\n",
      "\n",
      "\u001B[1mTEST CASE #5\u001B[0m\n",
      "\n",
      "Input:\n",
      "{'r': 1000, 'c': 1000, 'rq': 500, 'cq': 500, 'obstacles': []}\n",
      "\n",
      "Expected Output:\n",
      "3995\n",
      "\n",
      "\n",
      "Actual Output:\n",
      "3995\n",
      "\n",
      "Execution Time:\n",
      "0.261 ms\n",
      "\n",
      "Test Result:\n",
      "\u001B[92mPASSED\u001B[0m\n",
      "\n",
      "\n",
      "\u001B[1mTEST CASE #6\u001B[0m\n",
      "\n",
      "Input:\n",
      "{'r': 8, 'c': 8, 'rq': 4, 'cq': 4, 'obstacles': [(1, 1), (1, 2), (1, 3), (1, 4), (1, 5), (1, 6), (1,...\n",
      "\n",
      "Expected Output:\n",
      "3\n",
      "\n",
      "\n",
      "Actual Output:\n",
      "3\n",
      "\n",
      "Execution Time:\n",
      "0.013 ms\n",
      "\n",
      "Test Result:\n",
      "\u001B[92mPASSED\u001B[0m\n",
      "\n",
      "\n",
      "\u001B[1mSUMMARY\u001B[0m\n",
      "\n",
      "TOTAL: 7, \u001B[92mPASSED\u001B[0m: 7, \u001B[91mFAILED\u001B[0m: 0\n"
     ]
    }
   ],
   "source": [
    "results2 = evaluate_test_cases(queenAttack2, tests)"
   ],
   "metadata": {
    "collapsed": false,
    "ExecuteTime": {
     "end_time": "2023-11-26T09:13:23.526604500Z",
     "start_time": "2023-11-26T09:13:23.499613100Z"
    }
   },
   "id": "efb5beaf88e5830e"
  },
  {
   "cell_type": "code",
   "execution_count": 25,
   "outputs": [
    {
     "data": {
      "text/plain": "[(24, True, 0.013),\n (27, True, 0.005),\n (21, True, 0.006),\n (2, True, 0.003),\n (0, True, 0.004),\n (3995, True, 0.261),\n (3, True, 0.013)]"
     },
     "execution_count": 25,
     "metadata": {},
     "output_type": "execute_result"
    }
   ],
   "source": [
    "results2"
   ],
   "metadata": {
    "collapsed": false,
    "ExecuteTime": {
     "end_time": "2023-11-26T09:13:29.486240700Z",
     "start_time": "2023-11-26T09:13:29.459505200Z"
    }
   },
   "id": "9919282b85fa0188"
  },
  {
   "cell_type": "code",
   "execution_count": 26,
   "outputs": [],
   "source": [
    "times2 = []\n",
    "for values in results2:\n",
    "    times2.append(values[2])"
   ],
   "metadata": {
    "collapsed": false,
    "ExecuteTime": {
     "end_time": "2023-11-26T09:13:33.427102100Z",
     "start_time": "2023-11-26T09:13:33.402032200Z"
    }
   },
   "id": "cbfd9c3440d863d4"
  },
  {
   "cell_type": "code",
   "execution_count": 27,
   "outputs": [
    {
     "data": {
      "text/plain": "[0.013, 0.005, 0.006, 0.003, 0.004, 0.261, 0.013]"
     },
     "execution_count": 27,
     "metadata": {},
     "output_type": "execute_result"
    }
   ],
   "source": [
    "times2"
   ],
   "metadata": {
    "collapsed": false,
    "ExecuteTime": {
     "end_time": "2023-11-26T09:13:37.783615900Z",
     "start_time": "2023-11-26T09:13:37.761497100Z"
    }
   },
   "id": "e9329b3035e00bab"
  },
  {
   "cell_type": "code",
   "execution_count": 28,
   "outputs": [
    {
     "data": {
      "text/plain": "[0.003, 0.004, 0.005, 0.006, 0.013, 0.013, 0.261]"
     },
     "execution_count": 28,
     "metadata": {},
     "output_type": "execute_result"
    }
   ],
   "source": [
    "times2.sort()\n",
    "times2"
   ],
   "metadata": {
    "collapsed": false,
    "ExecuteTime": {
     "end_time": "2023-11-26T09:13:43.151367Z",
     "start_time": "2023-11-26T09:13:43.125386200Z"
    }
   },
   "id": "5796e34932460c0d"
  },
  {
   "cell_type": "code",
   "execution_count": 29,
   "outputs": [
    {
     "data": {
      "text/plain": "[4, 64, 64, 64, 64, 64, 1000000]"
     },
     "execution_count": 29,
     "metadata": {},
     "output_type": "execute_result"
    }
   ],
   "source": [
    "boxes1 = [64, 64, 64, 4, 64, 1000000, 64]\n",
    "boxes1.sort()\n",
    "boxes1"
   ],
   "metadata": {
    "collapsed": false,
    "ExecuteTime": {
     "end_time": "2023-11-26T09:13:46.866815600Z",
     "start_time": "2023-11-26T09:13:46.840981200Z"
    }
   },
   "id": "8df27da6a162d777"
  },
  {
   "cell_type": "code",
   "execution_count": 30,
   "outputs": [
    {
     "data": {
      "text/plain": "<Figure size 640x480 with 1 Axes>",
      "image/png": "[encoded data removed]"
     },
     "metadata": {},
     "output_type": "display_data"
    }
   ],
   "source": [
    "plt.plot(boxes1, times1, color='tab:red', label=\"Recursive\")\n",
    "plt.plot(boxes1, times2, color='tab:blue', label=\"Dynamic\")\n",
    "plt.legend()\n",
    "plt.show();"
   ],
   "metadata": {
    "collapsed": false,
    "ExecuteTime": {
     "end_time": "2023-11-26T09:13:50.764469200Z",
     "start_time": "2023-11-26T09:13:50.693585400Z"
    }
   },
   "id": "f970486584197ab5"
  },
  {
   "cell_type": "markdown",
   "source": [
    "### 6. Algorithm's complexity and inefficiencies.\n",
    "\n",
    "For both functions, the bottleneck seems associated to the size of the chessboard, but the recursive solution seems to be more affected by the number of boxes than the dynamic approach.\n",
    "\n",
    "The time complexity of the recursion is O(N²). For the second algorithm, the time complexity is O(N)."
   ],
   "metadata": {
    "collapsed": false
   },
   "id": "4bec16e9eab77085"
  },
  {
   "cell_type": "markdown",
   "source": [
    "### 7. Conclusion\n",
    "For the Queen's Attack II problem, the dynamic solution is the more efficient."
   ],
   "metadata": {
    "collapsed": false
   },
   "id": "6f2849654309f89d"
  },
  {
   "cell_type": "code",
   "execution_count": null,
   "outputs": [],
   "source": [],
   "metadata": {
    "collapsed": false
   },
   "id": "749568e54e8e3f8b"
  }
 ],
 "metadata": {
  "kernelspec": {
   "display_name": "Python 3",
   "language": "python",
   "name": "python3"
  },
  "language_info": {
   "codemirror_mode": {
    "name": "ipython",
    "version": 2
   },
   "file_extension": ".py",
   "mimetype": "text/x-python",
   "name": "python",
   "nbconvert_exporter": "python",
   "pygments_lexer": "ipython2",
   "version": "2.7.6"
  }
 },
 "nbformat": 4,
 "nbformat_minor": 5
}
