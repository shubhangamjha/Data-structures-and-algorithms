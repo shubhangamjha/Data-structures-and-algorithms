{
 "cells": [
  {
   "cell_type": "markdown",
   "source": [
    "## Problem Statement\n",
    "\n",
    "\n",
    "> ### Best Time to Buy and Sell Stock ###\n",
    "\n",
    "You are given an array prices where prices[i] is the price of a given stock on the ith day.\n",
    "\n",
    "Find the maximum profit you can achieve. You may complete as many transactions as you like (i.e., buy one and sell one share of the stock multiple times).\n",
    "\n",
    "Note: You may not engage in multiple transactions simultaneously (i.e., you must sell the stock before you buy again).\n",
    "\n",
    "\n",
    "Example 1:\n",
    "\n",
    "Input: prices = [7,1,5,3,6,4]\n",
    "Output: 7\n",
    "Explanation: Buy on day 2 (price = 1) and sell on day 3 (price = 5), profit = 5-1 = 4.\n",
    "Then buy on day 4 (price = 3) and sell on day 5 (price = 6), profit = 6-3 = 3.\n",
    "\n",
    "Example 2:\n",
    "\n",
    "Input: prices = [1,2,3,4,5]\n",
    "Output: 4\n",
    "Explanation: Buy on day 1 (price = 1) and sell on day 5 (price = 5), profit = 5-1 = 4.\n",
    "Note that you cannot buy on day 1, buy on day 2 and sell them later, as you are engaging multiple transactions at the same time. You must sell before buying again.\n",
    "\n",
    "Example 3:\n",
    "\n",
    "Input: prices = [7,6,4,3,1]\n",
    "Output: 0\n",
    "Explanation: In this case, no transaction is done, i.e., max profit = 0.\n",
    "\n",
    "Constraints:\n",
    "\n",
    "1 <= prices.length <= 3 * 10^4\n",
    "\n",
    "0 <= prices[i] <= 10^4\n",
    "\n",
    "\n",
    "Source: https://leetcode.com/problems/best-time-to-buy-and-sell-stock-ii/solution/"
   ],
   "metadata": {
    "collapsed": false
   },
   "id": "5a19ae96a6af7c72"
  },
  {
   "cell_type": "markdown",
   "source": [
    "## The Method\n",
    "\n",
    "Here's the systematic strategy we'll apply for solving problems:\n",
    "\n",
    "1. State the problem clearly. Identify the input & output formats.\n",
    "2. Come up with some example inputs & outputs. Try to cover all edge cases.\n",
    "3. Come up with a correct solution for the problem. State it in plain English.\n",
    "4. Implement the solution and test it using example inputs. Fix bugs, if any.\n",
    "5. Analyze the algorithm's complexity and identify inefficiencies, if any.\n",
    "6. Apply the right technique to overcome the inefficiency. Repeat steps 3 to 6.\n",
    "\n",
    "This approach is explained in detail in [Lesson 1](https://jovian.ai/learn/data-structures-and-algorithms-in-python/lesson/lesson-1-binary-search-linked-lists-and-complexity) of the course. Let's apply this approach step-by-step."
   ],
   "metadata": {
    "collapsed": false
   },
   "id": "55b4a74025649f26"
  },
  {
   "cell_type": "markdown",
   "source": [
    "## Solution\n",
    "\n",
    "\n",
    "### 1. State the problem clearly. Identify the input & output formats.\n",
    "\n",
    "While this problem is stated clearly enough, it's always useful to try and express in your own words, in a way that makes it most clear for you. \n",
    "\n",
    "\n",
    "**Problem**\n",
    "\n",
    "> The problem input a array stock[i]( the stock of the i th day, the limit maximum count of array is smaller then 3 * 10^4 , and limit maximum value is smaller then 10^4 ). Then outout the maximum profit(inside one day, just can buy or sell one time. )\n",
    "For example\n",
    "input array stock[7,3,5,2,6],  if buy in day two, the price is 3,then sell in day 3, then re-buy in day 4, the price is 2, then sell in day 5, the price is 6.  This will get the maximum profit, (5-3)+(6-2) = 6. so the max profit is 6.  \n",
    "\n",
    "<br/>\n",
    "\n",
    "\n",
    "**Input**\n",
    "\n",
    "1. stock[i]  ( the array of the price in these day)  \n",
    "\n",
    "\n",
    "**Output**\n",
    "\n",
    "1. maxcount , (The maximum profit of the buy and sell combination in Stock[i] )\n",
    "\n",
    "\n",
    "<br/>"
   ],
   "metadata": {
    "collapsed": false
   },
   "id": "5bb8707b99d4d696"
  },
  {
   "cell_type": "markdown",
   "source": [
    "Save and upload your work before continuing."
   ],
   "metadata": {
    "collapsed": false
   },
   "id": "d0b7ff9af03960e4"
  },
  {
   "cell_type": "markdown",
   "source": [
    "### 2. Come up with some example inputs & outputs. Try to cover all edge cases.\n",
    "\n",
    "Our function should be able to handle any set of valid inputs we pass into it. Here's a list of some possible variations we might encounter:\n",
    "\n",
    "0. **General case**\n",
    "1. **An empty list**\n",
    "2. **A list containing just one element**\n",
    "3. **The list contains repeating numbers**\n",
    "4. **The case just have Downward trend**\n",
    "5. **The case just have Upward trend**\n",
    "6. **Zero-list**\n",
    "7. **The case have mutiple valleys and peaks and first day is higher second day, the last day is low the previous day**\n",
    "8. **The day no any increase and decrease** \n",
    "\n",
    "\n",
    "\n",
    "We'll express our test cases as dictionaries, to test them easily. Each dictionary will contain 2 keys: `input` (a dictionary itself containing one key for each argument to the function and `output` (the expected result from the function). "
   ],
   "metadata": {
    "collapsed": false
   },
   "id": "f4f16e906e6cb82b"
  },
  {
   "cell_type": "code",
   "execution_count": 15,
   "outputs": [],
   "source": [
    "test0 = {\n",
    "    'input' : {\n",
    "        'stock' : [2, 6, 7, 8, 9, 3, 5, 6]\n",
    "    },\n",
    "    'output' : 10\n",
    "}"
   ],
   "metadata": {
    "collapsed": false,
    "ExecuteTime": {
     "end_time": "2023-11-26T08:54:36.997626200Z",
     "start_time": "2023-11-26T08:54:36.982427100Z"
    }
   },
   "id": "f90327a96935bdf8"
  },
  {
   "cell_type": "code",
   "execution_count": 16,
   "outputs": [],
   "source": [
    "test1 = {\n",
    "    'input': {\n",
    "        'stock': []\n",
    "    },\n",
    "    'output':0\n",
    "}"
   ],
   "metadata": {
    "collapsed": false,
    "ExecuteTime": {
     "end_time": "2023-11-26T08:54:39.084807100Z",
     "start_time": "2023-11-26T08:54:39.077223500Z"
    }
   },
   "id": "87e729b032546edd"
  },
  {
   "cell_type": "code",
   "execution_count": 17,
   "outputs": [],
   "source": [
    "test2 = {\n",
    "    'input': {\n",
    "        'stock': [6]\n",
    "    },\n",
    "    'output':0\n",
    "}"
   ],
   "metadata": {
    "collapsed": false,
    "ExecuteTime": {
     "end_time": "2023-11-26T08:54:39.257787600Z",
     "start_time": "2023-11-26T08:54:39.257787600Z"
    }
   },
   "id": "7737c7f44caf08ba"
  },
  {
   "cell_type": "code",
   "execution_count": 18,
   "outputs": [],
   "source": [
    "test3 = {\n",
    "    'input': {\n",
    "        'stock': [3, 6, 6, 6, 8, 8, 5, 6]\n",
    "    },\n",
    "    'output':6\n",
    "}"
   ],
   "metadata": {
    "collapsed": false,
    "ExecuteTime": {
     "end_time": "2023-11-26T08:54:39.422377800Z",
     "start_time": "2023-11-26T08:54:39.406611400Z"
    }
   },
   "id": "69f43754cfc1d526"
  },
  {
   "cell_type": "code",
   "execution_count": 19,
   "outputs": [],
   "source": [
    "test4 = {\n",
    "    'input': {\n",
    "        'stock': [7, 5, 4, 2]\n",
    "    },\n",
    "    'output':0\n",
    "}"
   ],
   "metadata": {
    "collapsed": false,
    "ExecuteTime": {
     "end_time": "2023-11-26T08:54:39.597525Z",
     "start_time": "2023-11-26T08:54:39.573976400Z"
    }
   },
   "id": "b10e02f3056437"
  },
  {
   "cell_type": "code",
   "execution_count": 20,
   "outputs": [],
   "source": [
    "test5 = {\n",
    "    'input': {\n",
    "        'stock': [2, 4, 5, 7]\n",
    "    },\n",
    "    'output':5\n",
    "}"
   ],
   "metadata": {
    "collapsed": false,
    "ExecuteTime": {
     "end_time": "2023-11-26T08:54:39.724871700Z",
     "start_time": "2023-11-26T08:54:39.718833300Z"
    }
   },
   "id": "56fd4b0272ab52c0"
  },
  {
   "cell_type": "code",
   "execution_count": 21,
   "outputs": [],
   "source": [
    "test6 = {\n",
    "    'input': {\n",
    "        'stock': [0, 0, 0, 0, 0, 0]\n",
    "    },\n",
    "    'output':0\n",
    "}"
   ],
   "metadata": {
    "collapsed": false,
    "ExecuteTime": {
     "end_time": "2023-11-26T08:54:39.889917500Z",
     "start_time": "2023-11-26T08:54:39.887401200Z"
    }
   },
   "id": "346c69b38ff57569"
  },
  {
   "cell_type": "code",
   "execution_count": 22,
   "outputs": [],
   "source": [
    "test7 = {\n",
    "    'input': {\n",
    "        'stock': [ 7, 1, 6, 2, 4, 5 , 3, 6, 3]\n",
    "    },\n",
    "    'output':11\n",
    "}"
   ],
   "metadata": {
    "collapsed": false,
    "ExecuteTime": {
     "end_time": "2023-11-26T08:54:40.047360600Z",
     "start_time": "2023-11-26T08:54:40.047360600Z"
    }
   },
   "id": "bd59cd4069f82141"
  },
  {
   "cell_type": "code",
   "execution_count": 23,
   "outputs": [],
   "source": [
    "test8 = {\n",
    "    'input': {\n",
    "        'stock': [ 3, 3, 3, 3, 3, 3]\n",
    "    },\n",
    "    'output':0\n",
    "}"
   ],
   "metadata": {
    "collapsed": false,
    "ExecuteTime": {
     "end_time": "2023-11-26T08:54:40.232880Z",
     "start_time": "2023-11-26T08:54:40.207231400Z"
    }
   },
   "id": "265cb0306a5ab183"
  },
  {
   "cell_type": "code",
   "execution_count": 24,
   "outputs": [],
   "source": [
    "tests = [test0, test1, test2, test3, test4, test5, test6, test7, test8]"
   ],
   "metadata": {
    "collapsed": false,
    "ExecuteTime": {
     "end_time": "2023-11-26T08:54:40.407680400Z",
     "start_time": "2023-11-26T08:54:40.401552800Z"
    }
   },
   "id": "300dc9182ae1e8cc"
  },
  {
   "cell_type": "markdown",
   "source": [
    "### 3. Come up with a correct solution for the problem. State it in plain English.\n",
    "\n",
    "Our first goal should always be to come up with a _correct_ solution to the problem, which may not necessarily be the most _efficient_ solution. Come with a correct solution and explain it in simple words below:\n",
    "\n",
    "### Brute Force Approach ###\n",
    "If we want to find out the  maximum profit combination inside the stock array.First, the most direct way is using the\n",
    "Brute Force Approach to search all the different profit combination and compare which profit of the combination is maximum profit.\n",
    "\n",
    "We can using the loop and recursion to achieve the Brute Force.\n",
    "\n",
    "\n",
    "1. **We can input the stock array, and then counting number 0 (because array is using 0 to count the first number.), we can use the counting number to compare all the number inside the array.**\n",
    "<br>\n",
    "\n",
    "2. **Then we can using \"if\" statement to check that is it already check all the number, if yes, just return 0 to end this**\n",
    "<br>\n",
    "\n",
    "3. **Setting the variable (maxcount) for using to save the maximum profit**\n",
    "<br>\n",
    "4. **Then use the counting number 0 to  setting two for loop  to campare the two number , start from compare array[0] \n",
    "    and array[1], the first number and next number.**\n",
    "<br>    \n",
    "5. **if the( first number ) smaller then the (next number), this is meaning buy in the day of the (first number), then sell in \n",
    "    the day of the (next number) have a profit, so using the (next number) minus the (first number) to \n",
    "    calculate the profit.**\n",
    "<br>\n",
    "6. **But the array maybe is not just two number(two day), so we need to add the max profit about the array number after the (next number), so we need to using recursion to re-call the function, but given the (next number) + 1 for the counting number, this will make the function start from array(next number +1) to calculate and compare.** \n",
    "<br>\n",
    "7. **when we calculate the profit of differnt combination inside the each recursion, we need to find out the most profit one to\n",
    "    transfer the result to upper level of recursion ,(to sum up the most profit one in this level of recursion and the profit of upper recursion. So we compare if (profit) > (maxprofit), put the (profit) become the (maxprofit).**\n",
    "<br>    \n",
    "8. **Finally when the (maxprofit) transfer to the top level, we still need to compare each (maxprofit) is the real maximum\n",
    "    profit, first we already set the (maxcount) is 0 in the step 3, so we will using if (maxprofit > maxcount), to compare each\n",
    "    (maxprofit), which one is the maximum, then put the number of ( maxprofit) to the (maxcount).**\n",
    "<br>    \n",
    "9. **Finally return the (maxcount), this is the final maximum profit of the stock array.**     \n",
    "\n",
    "    ***For example:  [7,1,5,3,6,4]***\n",
    "        1. array[0] is 7, array [1] is 1,  so 7>1, skip.\n",
    "        2. 7>5,skip,7>3,skip,7>6,skip,7>4,skip\n",
    "        3. 1<5, profit is (5-1) + the maxprofit of the number after 5, so run the recursion, start from 3.\n",
    "            3.1. 3<6 profit is (6-3)+ the maxprofit of the number after 6,so run the recursion, start from 4.\n",
    "                3.1.1.  4 is end the loop, return to upper level.\n",
    "            3.2  3<4\n",
    "                3.2.1 after 4, is the end the loop, return to upper level.\n",
    "        4. 1<3\n",
    "            .\n",
    "            .\n",
    "            .\n",
    "            .\n",
    "            \n",
    "            \n",
    "      ***After calculate all combination start from 1 , then will calculate start from 5, then 3, then 6, then 4.\n",
    "      Final compare each (maxprofit) to get a maximum profit (maxcount)\n",
    "         \n",
    "                \n",
    "                \n",
    "     \n",
    "            \n"
   ],
   "metadata": {
    "collapsed": false
   },
   "id": "adc6cd45f5fee0a4"
  },
  {
   "cell_type": "markdown",
   "source": [
    "###  4. Implement the solution and test it using example inputs. Fix bugs, if any."
   ],
   "metadata": {
    "collapsed": false
   },
   "id": "1cd5db3e1cd5a345"
  },
  {
   "cell_type": "code",
   "execution_count": 25,
   "outputs": [],
   "source": [
    "def bruteforce_cal(stock,count):\n",
    "    if (count >= len(stock)):\n",
    "        return 0\n",
    "    maxcount = 0\n",
    "    for i in range(count, len(stock)):\n",
    "        maxprofit = 0\n",
    "        for j in range(i+1, len(stock)):\n",
    "            if (stock[i] < stock[j]):\n",
    "                profit = bruteforce_cal(stock, j + 1) + stock[j] - stock[i]\n",
    "                if (profit > maxprofit):\n",
    "                    maxprofit = profit\n",
    "                \n",
    "        if (maxprofit > maxcount):\n",
    "            maxcount = maxprofit\n",
    "        \n",
    "    return maxcount"
   ],
   "metadata": {
    "collapsed": false,
    "ExecuteTime": {
     "end_time": "2023-11-26T08:54:42.440139100Z",
     "start_time": "2023-11-26T08:54:42.433404700Z"
    }
   },
   "id": "d826b316378e5412"
  },
  {
   "cell_type": "code",
   "execution_count": 26,
   "outputs": [],
   "source": [
    "def stock_finder(stock):\n",
    "    result = bruteforce_cal(stock,0)\n",
    "    return result"
   ],
   "metadata": {
    "collapsed": false,
    "ExecuteTime": {
     "end_time": "2023-11-26T08:54:42.901756400Z",
     "start_time": "2023-11-26T08:54:42.877110300Z"
    }
   },
   "id": "3eb727dec8b7dcf5"
  },
  {
   "cell_type": "code",
   "execution_count": 27,
   "outputs": [],
   "source": [
    "from jovian.pythondsa import evaluate_test_cases"
   ],
   "metadata": {
    "collapsed": false,
    "ExecuteTime": {
     "end_time": "2023-11-26T08:54:43.744707100Z",
     "start_time": "2023-11-26T08:54:43.734564700Z"
    }
   },
   "id": "44cc77390645ec97"
  },
  {
   "cell_type": "code",
   "execution_count": 28,
   "outputs": [
    {
     "name": "stdout",
     "output_type": "stream",
     "text": [
      "\n",
      "\u001B[1mTEST CASE #0\u001B[0m\n",
      "\n",
      "Input:\n",
      "{'stock': [2, 6, 7, 8, 9, 3, 5, 6]}\n",
      "\n",
      "Expected Output:\n",
      "10\n",
      "\n",
      "\n",
      "Actual Output:\n",
      "10\n",
      "\n",
      "Execution Time:\n",
      "0.042 ms\n",
      "\n",
      "Test Result:\n",
      "\u001B[92mPASSED\u001B[0m\n",
      "\n",
      "\n",
      "\u001B[1mTEST CASE #1\u001B[0m\n",
      "\n",
      "Input:\n",
      "{'stock': []}\n",
      "\n",
      "Expected Output:\n",
      "0\n",
      "\n",
      "\n",
      "Actual Output:\n",
      "0\n",
      "\n",
      "Execution Time:\n",
      "0.001 ms\n",
      "\n",
      "Test Result:\n",
      "\u001B[92mPASSED\u001B[0m\n",
      "\n",
      "\n",
      "\u001B[1mTEST CASE #2\u001B[0m\n",
      "\n",
      "Input:\n",
      "{'stock': [6]}\n",
      "\n",
      "Expected Output:\n",
      "0\n",
      "\n",
      "\n",
      "Actual Output:\n",
      "0\n",
      "\n",
      "Execution Time:\n",
      "0.002 ms\n",
      "\n",
      "Test Result:\n",
      "\u001B[92mPASSED\u001B[0m\n",
      "\n",
      "\n",
      "\u001B[1mTEST CASE #3\u001B[0m\n",
      "\n",
      "Input:\n",
      "{'stock': [3, 6, 6, 6, 8, 8, 5, 6]}\n",
      "\n",
      "Expected Output:\n",
      "6\n",
      "\n",
      "\n",
      "Actual Output:\n",
      "6\n",
      "\n",
      "Execution Time:\n",
      "0.02 ms\n",
      "\n",
      "Test Result:\n",
      "\u001B[92mPASSED\u001B[0m\n",
      "\n",
      "\n",
      "\u001B[1mTEST CASE #4\u001B[0m\n",
      "\n",
      "Input:\n",
      "{'stock': [7, 5, 4, 2]}\n",
      "\n",
      "Expected Output:\n",
      "0\n",
      "\n",
      "\n",
      "Actual Output:\n",
      "0\n",
      "\n",
      "Execution Time:\n",
      "0.002 ms\n",
      "\n",
      "Test Result:\n",
      "\u001B[92mPASSED\u001B[0m\n",
      "\n",
      "\n",
      "\u001B[1mTEST CASE #5\u001B[0m\n",
      "\n",
      "Input:\n",
      "{'stock': [2, 4, 5, 7]}\n",
      "\n",
      "Expected Output:\n",
      "5\n",
      "\n",
      "\n",
      "Actual Output:\n",
      "5\n",
      "\n",
      "Execution Time:\n",
      "0.006 ms\n",
      "\n",
      "Test Result:\n",
      "\u001B[92mPASSED\u001B[0m\n",
      "\n",
      "\n",
      "\u001B[1mTEST CASE #6\u001B[0m\n",
      "\n",
      "Input:\n",
      "{'stock': [0, 0, 0, 0, 0, 0]}\n",
      "\n",
      "Expected Output:\n",
      "0\n",
      "\n",
      "\n",
      "Actual Output:\n",
      "0\n",
      "\n",
      "Execution Time:\n",
      "0.004 ms\n",
      "\n",
      "Test Result:\n",
      "\u001B[92mPASSED\u001B[0m\n",
      "\n",
      "\n",
      "\u001B[1mTEST CASE #7\u001B[0m\n",
      "\n",
      "Input:\n",
      "{'stock': [7, 1, 6, 2, 4, 5, 3, 6, 3]}\n",
      "\n",
      "Expected Output:\n",
      "11\n",
      "\n",
      "\n",
      "Actual Output:\n",
      "11\n",
      "\n",
      "Execution Time:\n",
      "0.04 ms\n",
      "\n",
      "Test Result:\n",
      "\u001B[92mPASSED\u001B[0m\n",
      "\n",
      "\n",
      "\u001B[1mTEST CASE #8\u001B[0m\n",
      "\n",
      "Input:\n",
      "{'stock': [3, 3, 3, 3, 3, 3]}\n",
      "\n",
      "Expected Output:\n",
      "0\n",
      "\n",
      "\n",
      "Actual Output:\n",
      "0\n",
      "\n",
      "Execution Time:\n",
      "0.003 ms\n",
      "\n",
      "Test Result:\n",
      "\u001B[92mPASSED\u001B[0m\n",
      "\n",
      "\n",
      "\u001B[1mSUMMARY\u001B[0m\n",
      "\n",
      "TOTAL: 9, \u001B[92mPASSED\u001B[0m: 9, \u001B[91mFAILED\u001B[0m: 0\n"
     ]
    }
   ],
   "source": [
    "results = evaluate_test_cases(stock_finder, tests)"
   ],
   "metadata": {
    "collapsed": false,
    "ExecuteTime": {
     "end_time": "2023-11-26T08:54:44.975274700Z",
     "start_time": "2023-11-26T08:54:44.975274700Z"
    }
   },
   "id": "e4ca91331661792a"
  },
  {
   "cell_type": "markdown",
   "source": [
    "### 5. Analyze the algorithm's complexity and identify inefficiencies, if any."
   ],
   "metadata": {
    "collapsed": false
   },
   "id": "88b1d61b29486b6b"
  },
  {
   "cell_type": "markdown",
   "source": [
    "### Time complexity is O(n^n).\n",
    "### Space complexity is O(n).\n",
    " "
   ],
   "metadata": {
    "collapsed": false
   },
   "id": "1ba80ddccbdc2559"
  },
  {
   "cell_type": "markdown",
   "source": [
    "### 6. Apply the right technique to overcome the inefficiency. Repeat steps 3 to 6."
   ],
   "metadata": {
    "collapsed": false
   },
   "id": "baf270b7e5897a10"
  },
  {
   "cell_type": "markdown",
   "source": [
    "  ### effective Way ###\n",
    "**When we think more about the stock array[day price], given example: [7,1,5,3,6,4] \n",
    "When you polt these number to the graph,  you will see different peak and valley.\n",
    "We can realize it, we can just buy in each lowest point (the valley) and sell in hightest point (the peak) sequentially by the Day, then will easily to get a  maximum profit.**   "
   ],
   "metadata": {
    "collapsed": false
   },
   "id": "f7cfb357f0f740dc"
  },
  {
   "cell_type": "markdown",
   "source": [
    "### 7. Come up with a correct solution for the problem. State it in plain English.\n",
    "\n",
    "Come with the optimized correct solution and explain it in simple words below:\n",
    "\n",
    "Depending the effective Way, we can put the step like that: \n",
    "\n",
    "1. **Create a variable called (totalearn) to save the total how much money we earn, initializing to 0 first.**\n",
    "<br>\n",
    "\n",
    "2. **Create a for loop, loop from 1 to the number before the length of stock, because this can make we can count from\n",
    "    the second number to the end of the stock array.**\n",
    "<br>\n",
    "\n",
    "3. **Setting the compare condition using if statement, if the (next number) of the array is bigger then previous one ,\n",
    "   this meaning next day of the price is highter then yesterday, then we can buy on previous day and sell in that day.**\n",
    "<br> \n",
    "\n",
    "4. **So using the array[this day] minus array[this day -1] to calculate the profit, and save to the (totalearn).**\n",
    "<br>\n",
    "\n",
    "5. **After looping to the end, we accumulate all the profit to (totalearn).**\n",
    "<br>\n",
    "\n",
    "6. **Then return the (totalearn), this is the maximum profit.**\n",
    "\n",
    "### For example: [7,1,5,3,6,4]\n",
    "    1. totalearn = 0\n",
    "        1.1 1<7, totalearn still = 0.\n",
    "    2. 5>1, totalearn = 4.\n",
    "    3. 3<5, totalearn still = 4.\n",
    "    4. 6>3, totalearn = 4+3 = 7.\n",
    "    5. 4<6, totalearn still = 7.\n",
    "    \n",
    "    Finally, return 7.\n",
    "    \n",
    "    7 is maximum profit.\n",
    "    \n",
    "\n"
   ],
   "metadata": {
    "collapsed": false
   },
   "id": "1d76f96bf80b7ceb"
  },
  {
   "cell_type": "markdown",
   "source": [
    "### 8. Implement the solution and test it using example inputs. Fix bugs, if any."
   ],
   "metadata": {
    "collapsed": false
   },
   "id": "32dd203518cb85fd"
  },
  {
   "cell_type": "code",
   "execution_count": 29,
   "outputs": [],
   "source": [
    "def quicksolution(stock):\n",
    "    totalearn = 0\n",
    "    for i in range(1, len(stock)):\n",
    "        if (stock[i] > stock[i - 1]):\n",
    "            totalearn += stock[i] - stock[i - 1]\n",
    "        \n",
    "    return totalearn\n",
    "    "
   ],
   "metadata": {
    "collapsed": false,
    "ExecuteTime": {
     "end_time": "2023-11-26T08:55:53.924944400Z",
     "start_time": "2023-11-26T08:55:53.883271700Z"
    }
   },
   "id": "1e9ac5500635edae"
  },
  {
   "cell_type": "code",
   "execution_count": 30,
   "outputs": [
    {
     "name": "stdout",
     "output_type": "stream",
     "text": [
      "\n",
      "\u001B[1mTEST CASE #0\u001B[0m\n",
      "\n",
      "Input:\n",
      "{'stock': [2, 6, 7, 8, 9, 3, 5, 6]}\n",
      "\n",
      "Expected Output:\n",
      "10\n",
      "\n",
      "\n",
      "Actual Output:\n",
      "10\n",
      "\n",
      "Execution Time:\n",
      "0.006 ms\n",
      "\n",
      "Test Result:\n",
      "\u001B[92mPASSED\u001B[0m\n",
      "\n",
      "\n",
      "\u001B[1mTEST CASE #1\u001B[0m\n",
      "\n",
      "Input:\n",
      "{'stock': []}\n",
      "\n",
      "Expected Output:\n",
      "0\n",
      "\n",
      "\n",
      "Actual Output:\n",
      "0\n",
      "\n",
      "Execution Time:\n",
      "0.002 ms\n",
      "\n",
      "Test Result:\n",
      "\u001B[92mPASSED\u001B[0m\n",
      "\n",
      "\n",
      "\u001B[1mTEST CASE #2\u001B[0m\n",
      "\n",
      "Input:\n",
      "{'stock': [6]}\n",
      "\n",
      "Expected Output:\n",
      "0\n",
      "\n",
      "\n",
      "Actual Output:\n",
      "0\n",
      "\n",
      "Execution Time:\n",
      "0.001 ms\n",
      "\n",
      "Test Result:\n",
      "\u001B[92mPASSED\u001B[0m\n",
      "\n",
      "\n",
      "\u001B[1mTEST CASE #3\u001B[0m\n",
      "\n",
      "Input:\n",
      "{'stock': [3, 6, 6, 6, 8, 8, 5, 6]}\n",
      "\n",
      "Expected Output:\n",
      "6\n",
      "\n",
      "\n",
      "Actual Output:\n",
      "6\n",
      "\n",
      "Execution Time:\n",
      "0.002 ms\n",
      "\n",
      "Test Result:\n",
      "\u001B[92mPASSED\u001B[0m\n",
      "\n",
      "\n",
      "\u001B[1mTEST CASE #4\u001B[0m\n",
      "\n",
      "Input:\n",
      "{'stock': [7, 5, 4, 2]}\n",
      "\n",
      "Expected Output:\n",
      "0\n",
      "\n",
      "\n",
      "Actual Output:\n",
      "0\n",
      "\n",
      "Execution Time:\n",
      "0.001 ms\n",
      "\n",
      "Test Result:\n",
      "\u001B[92mPASSED\u001B[0m\n",
      "\n",
      "\n",
      "\u001B[1mTEST CASE #5\u001B[0m\n",
      "\n",
      "Input:\n",
      "{'stock': [2, 4, 5, 7]}\n",
      "\n",
      "Expected Output:\n",
      "5\n",
      "\n",
      "\n",
      "Actual Output:\n",
      "5\n",
      "\n",
      "Execution Time:\n",
      "0.002 ms\n",
      "\n",
      "Test Result:\n",
      "\u001B[92mPASSED\u001B[0m\n",
      "\n",
      "\n",
      "\u001B[1mTEST CASE #6\u001B[0m\n",
      "\n",
      "Input:\n",
      "{'stock': [0, 0, 0, 0, 0, 0]}\n",
      "\n",
      "Expected Output:\n",
      "0\n",
      "\n",
      "\n",
      "Actual Output:\n",
      "0\n",
      "\n",
      "Execution Time:\n",
      "0.001 ms\n",
      "\n",
      "Test Result:\n",
      "\u001B[92mPASSED\u001B[0m\n",
      "\n",
      "\n",
      "\u001B[1mTEST CASE #7\u001B[0m\n",
      "\n",
      "Input:\n",
      "{'stock': [7, 1, 6, 2, 4, 5, 3, 6, 3]}\n",
      "\n",
      "Expected Output:\n",
      "11\n",
      "\n",
      "\n",
      "Actual Output:\n",
      "11\n",
      "\n",
      "Execution Time:\n",
      "0.002 ms\n",
      "\n",
      "Test Result:\n",
      "\u001B[92mPASSED\u001B[0m\n",
      "\n",
      "\n",
      "\u001B[1mTEST CASE #8\u001B[0m\n",
      "\n",
      "Input:\n",
      "{'stock': [3, 3, 3, 3, 3, 3]}\n",
      "\n",
      "Expected Output:\n",
      "0\n",
      "\n",
      "\n",
      "Actual Output:\n",
      "0\n",
      "\n",
      "Execution Time:\n",
      "0.002 ms\n",
      "\n",
      "Test Result:\n",
      "\u001B[92mPASSED\u001B[0m\n",
      "\n",
      "\n",
      "\u001B[1mSUMMARY\u001B[0m\n",
      "\n",
      "TOTAL: 9, \u001B[92mPASSED\u001B[0m: 9, \u001B[91mFAILED\u001B[0m: 0\n"
     ]
    }
   ],
   "source": [
    "results = evaluate_test_cases(quicksolution, tests)"
   ],
   "metadata": {
    "collapsed": false,
    "ExecuteTime": {
     "end_time": "2023-11-26T08:56:08.714086600Z",
     "start_time": "2023-11-26T08:56:08.682565500Z"
    }
   },
   "id": "9ab417f6686fc7df"
  },
  {
   "cell_type": "markdown",
   "source": [
    "### 9. Analyze the algorithm's complexity and identify inefficiencies, if any."
   ],
   "metadata": {
    "collapsed": false
   },
   "id": "a1db5e789a82c1de"
  },
  {
   "cell_type": "markdown",
   "source": [
    "### Time complexity is O(n).\n",
    "\n",
    "### Space complexity is O(1)."
   ],
   "metadata": {
    "collapsed": false
   },
   "id": "735f54394a16ec50"
  },
  {
   "cell_type": "code",
   "execution_count": null,
   "outputs": [],
   "source": [],
   "metadata": {
    "collapsed": false
   },
   "id": "b99006ad521b1e6c"
  }
 ],
 "metadata": {
  "kernelspec": {
   "display_name": "Python 3",
   "language": "python",
   "name": "python3"
  },
  "language_info": {
   "codemirror_mode": {
    "name": "ipython",
    "version": 2
   },
   "file_extension": ".py",
   "mimetype": "text/x-python",
   "name": "python",
   "nbconvert_exporter": "python",
   "pygments_lexer": "ipython2",
   "version": "2.7.6"
  }
 },
 "nbformat": 4,
 "nbformat_minor": 5
}
