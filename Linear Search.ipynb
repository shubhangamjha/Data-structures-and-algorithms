{
 "cells": [
  {
   "cell_type": "code",
   "execution_count": 19,
   "id": "initial_id",
   "metadata": {
    "collapsed": true,
    "ExecuteTime": {
     "end_time": "2023-10-04T15:25:57.230279Z",
     "start_time": "2023-10-04T15:25:57.225751800Z"
    }
   },
   "outputs": [],
   "source": [
    "from jovian.pythondsa import evaluate_test_case"
   ]
  },
  {
   "cell_type": "code",
   "execution_count": 20,
   "outputs": [],
   "source": [
    "def locate_card(cards, query):\n",
    "\n",
    "    #Create a positional variable with value 0\n",
    "    position = 0\n",
    "\n",
    "    #set up a oop for repetaition\n",
    "    while True:\n",
    "\n",
    "        #Check if the current position matches the query\n",
    "        if cards[position] == query:\n",
    "\n",
    "            #Answer found! Return and Exiit\n",
    "            return position\n",
    "\n",
    "        #increment the position\n",
    "        position += 1\n",
    "\n",
    "        #if we have reached the end of array\n",
    "        if position == len(cards):\n",
    "\n",
    "            #Number not found and will return position as -1\n",
    "\n",
    "            return -1\n",
    "\n"
   ],
   "metadata": {
    "collapsed": false,
    "ExecuteTime": {
     "end_time": "2023-10-04T15:25:57.744922100Z",
     "start_time": "2023-10-04T15:25:57.744413800Z"
    }
   },
   "id": "becde95ecccb46d2"
  },
  {
   "cell_type": "code",
   "execution_count": 21,
   "outputs": [],
   "source": [
    "# Creating a test case for our function\n",
    "test = {\n",
    "    'inputs' : {\n",
    "        'cards' : [13, 11, 10, 7, 4, 3, 1, 0],\n",
    "        'query' : 7\n",
    "    },\n",
    "    'output' : 3\n",
    "}"
   ],
   "metadata": {
    "collapsed": false,
    "ExecuteTime": {
     "end_time": "2023-10-04T15:25:58.622578500Z",
     "start_time": "2023-10-04T15:25:58.620553900Z"
    }
   },
   "id": "15c58eeba411015"
  },
  {
   "cell_type": "code",
   "execution_count": 22,
   "outputs": [],
   "source": [
    "#cehcking the result\n",
    "result = locate_card(**test['inputs'])\n",
    "output = test['output']"
   ],
   "metadata": {
    "collapsed": false,
    "ExecuteTime": {
     "end_time": "2023-10-04T15:25:59.227479300Z",
     "start_time": "2023-10-04T15:25:59.226968800Z"
    }
   },
   "id": "ee1b1fb39438dac7"
  },
  {
   "cell_type": "code",
   "execution_count": 23,
   "outputs": [
    {
     "data": {
      "text/plain": "3"
     },
     "execution_count": 23,
     "metadata": {},
     "output_type": "execute_result"
    }
   ],
   "source": [
    "result"
   ],
   "metadata": {
    "collapsed": false,
    "ExecuteTime": {
     "end_time": "2023-10-04T15:26:00.442563600Z",
     "start_time": "2023-10-04T15:26:00.442051200Z"
    }
   },
   "id": "63af623b8db26672"
  },
  {
   "cell_type": "code",
   "execution_count": 24,
   "outputs": [
    {
     "data": {
      "text/plain": "3"
     },
     "execution_count": 24,
     "metadata": {},
     "output_type": "execute_result"
    }
   ],
   "source": [
    "output"
   ],
   "metadata": {
    "collapsed": false,
    "ExecuteTime": {
     "end_time": "2023-10-04T15:26:00.833185400Z",
     "start_time": "2023-10-04T15:26:00.825854900Z"
    }
   },
   "id": "1766b4fa0f93315c"
  },
  {
   "cell_type": "code",
   "execution_count": 25,
   "outputs": [
    {
     "data": {
      "text/plain": "True"
     },
     "execution_count": 25,
     "metadata": {},
     "output_type": "execute_result"
    }
   ],
   "source": [
    "result == output"
   ],
   "metadata": {
    "collapsed": false,
    "ExecuteTime": {
     "end_time": "2023-10-04T15:26:01.761508100Z",
     "start_time": "2023-10-04T15:26:01.758982500Z"
    }
   },
   "id": "3d32ec47de838f7"
  },
  {
   "cell_type": "code",
   "execution_count": 34,
   "outputs": [
    {
     "ename": "KeyError",
     "evalue": "'input'",
     "output_type": "error",
     "traceback": [
      "\u001B[1;31m---------------------------------------------------------------------------\u001B[0m",
      "\u001B[1;31mKeyError\u001B[0m                                  Traceback (most recent call last)",
      "Cell \u001B[1;32mIn[34], line 1\u001B[0m\n\u001B[1;32m----> 1\u001B[0m \u001B[43mevaluate_test_case\u001B[49m\u001B[43m(\u001B[49m\u001B[43mlocate_card\u001B[49m\u001B[43m(\u001B[49m\u001B[38;5;241;43m*\u001B[39;49m\u001B[38;5;241;43m*\u001B[39;49m\u001B[43mtest\u001B[49m\u001B[43m[\u001B[49m\u001B[38;5;124;43m'\u001B[39;49m\u001B[38;5;124;43minputs\u001B[39;49m\u001B[38;5;124;43m'\u001B[39;49m\u001B[43m]\u001B[49m\u001B[43m)\u001B[49m\u001B[43m,\u001B[49m\u001B[43mtest\u001B[49m\u001B[43m)\u001B[49m\n",
      "File \u001B[1;32m~\\Desktop\\Desktop\\programming\\DSA\\Lib\\site-packages\\jovian\\pythondsa\\__init__.py:59\u001B[0m, in \u001B[0;36mevaluate_test_case\u001B[1;34m(function, test_case, display)\u001B[0m\n\u001B[0;32m     57\u001B[0m \u001B[38;5;28;01mdef\u001B[39;00m \u001B[38;5;21mevaluate_test_case\u001B[39m(function, test_case, display\u001B[38;5;241m=\u001B[39m\u001B[38;5;28;01mTrue\u001B[39;00m):\n\u001B[0;32m     58\u001B[0m \u001B[38;5;250m    \u001B[39m\u001B[38;5;124;03m\"\"\"Check if `function` works as expected for `test_case`\"\"\"\u001B[39;00m\n\u001B[1;32m---> 59\u001B[0m     inputs \u001B[38;5;241m=\u001B[39m \u001B[43mtest_case\u001B[49m\u001B[43m[\u001B[49m\u001B[38;5;124;43m'\u001B[39;49m\u001B[38;5;124;43minput\u001B[39;49m\u001B[38;5;124;43m'\u001B[39;49m\u001B[43m]\u001B[49m\n\u001B[0;32m     61\u001B[0m     \u001B[38;5;28;01mif\u001B[39;00m display:\n\u001B[0;32m     62\u001B[0m         _show_test_case(test_case)\n",
      "\u001B[1;31mKeyError\u001B[0m: 'input'"
     ]
    }
   ],
   "source": [
    "evaluate_test_case(locate_card(**test['inputs']),test)"
   ],
   "metadata": {
    "collapsed": false,
    "ExecuteTime": {
     "end_time": "2023-10-04T15:26:47.223876800Z",
     "start_time": "2023-10-04T15:26:47.217207100Z"
    }
   },
   "id": "4411bba3342717e9"
  },
  {
   "cell_type": "code",
   "execution_count": 27,
   "outputs": [],
   "source": [
    "tests = []"
   ],
   "metadata": {
    "collapsed": false,
    "ExecuteTime": {
     "end_time": "2023-10-04T15:26:04.582794600Z",
     "start_time": "2023-10-04T15:26:04.579781900Z"
    }
   },
   "id": "bf444de325d46568"
  },
  {
   "cell_type": "code",
   "execution_count": 28,
   "outputs": [],
   "source": [
    "# query occurs in the middle\n",
    "tests.append(test)\n",
    "\n",
    "tests.append({\n",
    "    'input': {\n",
    "        'cards': [13, 11, 10, 7, 4, 3, 1, 0],\n",
    "        'query': 1\n",
    "    },\n",
    "    'output': 6\n",
    "})"
   ],
   "metadata": {
    "collapsed": false,
    "ExecuteTime": {
     "end_time": "2023-10-04T15:26:05.305044200Z",
     "start_time": "2023-10-04T15:26:05.305044200Z"
    }
   },
   "id": "bbd70be17ca08626"
  },
  {
   "cell_type": "code",
   "execution_count": 29,
   "outputs": [],
   "source": [
    "# query is the first element\n",
    "tests.append({\n",
    "    'input': {\n",
    "        'cards': [4, 2, 1, -1],\n",
    "        'query': 4\n",
    "    },\n",
    "    'output': 0\n",
    "})"
   ],
   "metadata": {
    "collapsed": false,
    "ExecuteTime": {
     "end_time": "2023-10-04T15:26:06.031731Z",
     "start_time": "2023-10-04T15:26:06.015880500Z"
    }
   },
   "id": "ec92ed35be32707d"
  },
  {
   "cell_type": "code",
   "execution_count": 30,
   "outputs": [],
   "source": [
    "# query is the last element\n",
    "tests.append({\n",
    "    'input': {\n",
    "        'cards': [3, -1, -9, -127],\n",
    "        'query': -127\n",
    "    },\n",
    "    'output': 3\n",
    "})"
   ],
   "metadata": {
    "collapsed": false,
    "ExecuteTime": {
     "end_time": "2023-10-04T15:26:06.546339100Z",
     "start_time": "2023-10-04T15:26:06.546339100Z"
    }
   },
   "id": "12f2211d7a067ae4"
  },
  {
   "cell_type": "code",
   "execution_count": 31,
   "outputs": [],
   "source": [
    "# query occurs multiple times\n",
    "tests.append({\n",
    "    'input': {\n",
    "        'cards': [8, 8, 6, 6, 6, 6, 6, 6, 3, 2, 2, 2, 0, 0, 0],\n",
    "        'query': 6\n",
    "    },\n",
    "    'output': 2\n",
    "})"
   ],
   "metadata": {
    "collapsed": false,
    "ExecuteTime": {
     "end_time": "2023-10-04T15:26:07.227192600Z",
     "start_time": "2023-10-04T15:26:07.226679500Z"
    }
   },
   "id": "ea5cbcfb2d78cc5a"
  },
  {
   "cell_type": "code",
   "execution_count": 32,
   "outputs": [
    {
     "data": {
      "text/plain": "[{'inputs': {'cards': [13, 11, 10, 7, 4, 3, 1, 0], 'query': 7}, 'output': 3},\n {'input': {'cards': [13, 11, 10, 7, 4, 3, 1, 0], 'query': 1}, 'output': 6},\n {'input': {'cards': [4, 2, 1, -1], 'query': 4}, 'output': 0},\n {'input': {'cards': [3, -1, -9, -127], 'query': -127}, 'output': 3},\n {'input': {'cards': [8, 8, 6, 6, 6, 6, 6, 6, 3, 2, 2, 2, 0, 0, 0],\n   'query': 6},\n  'output': 2}]"
     },
     "execution_count": 32,
     "metadata": {},
     "output_type": "execute_result"
    }
   ],
   "source": [
    "tests"
   ],
   "metadata": {
    "collapsed": false,
    "ExecuteTime": {
     "end_time": "2023-10-04T15:26:08.182752800Z",
     "start_time": "2023-10-04T15:26:08.166860800Z"
    }
   },
   "id": "427243012a7fcb8"
  },
  {
   "cell_type": "code",
   "execution_count": 33,
   "outputs": [
    {
     "data": {
      "text/plain": "{'inputs': {'cards': [13, 11, 10, 7, 4, 3, 1, 0], 'query': 7}, 'output': 3}"
     },
     "execution_count": 33,
     "metadata": {},
     "output_type": "execute_result"
    }
   ],
   "source": [
    "test"
   ],
   "metadata": {
    "collapsed": false,
    "ExecuteTime": {
     "end_time": "2023-10-04T15:26:09.654053500Z",
     "start_time": "2023-10-04T15:26:09.645140200Z"
    }
   },
   "id": "5182ed468bc858fc"
  },
  {
   "cell_type": "code",
   "execution_count": null,
   "outputs": [],
   "source": [],
   "metadata": {
    "collapsed": false
   },
   "id": "a062d37347d64991"
  }
 ],
 "metadata": {
  "kernelspec": {
   "display_name": "Python 3",
   "language": "python",
   "name": "python3"
  },
  "language_info": {
   "codemirror_mode": {
    "name": "ipython",
    "version": 2
   },
   "file_extension": ".py",
   "mimetype": "text/x-python",
   "name": "python",
   "nbconvert_exporter": "python",
   "pygments_lexer": "ipython2",
   "version": "2.7.6"
  }
 },
 "nbformat": 4,
 "nbformat_minor": 5
}
